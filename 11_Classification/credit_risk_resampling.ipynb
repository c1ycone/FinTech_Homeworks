{
 "cells": [
  {
   "cell_type": "markdown",
   "metadata": {
    "id": "EYbDdPdCvNkF"
   },
   "source": [
    "# Credit Risk Resampling Techniques"
   ]
  },
  {
   "cell_type": "code",
   "execution_count": null,
   "metadata": {
    "id": "9ZTAWFHNvNkH"
   },
   "outputs": [],
   "source": [
    "import warnings\n",
    "warnings.filterwarnings('ignore')"
   ]
  },
  {
   "cell_type": "code",
   "execution_count": 2,
   "metadata": {
    "id": "Ticnub4EvNkI"
   },
   "outputs": [],
   "source": [
    "import numpy as np\n",
    "import pandas as pd\n",
    "from pathlib import Path\n",
    "from collections import Counter"
   ]
  },
  {
   "cell_type": "markdown",
   "metadata": {
    "id": "oh70e1iavNkI"
   },
   "source": [
    "# Read the CSV into DataFrame"
   ]
  },
  {
   "cell_type": "code",
   "execution_count": 3,
   "metadata": {
    "id": "UqUg3cJFvNkI"
   },
   "outputs": [
    {
     "data": {
      "text/html": [
       "<div>\n",
       "<style scoped>\n",
       "    .dataframe tbody tr th:only-of-type {\n",
       "        vertical-align: middle;\n",
       "    }\n",
       "\n",
       "    .dataframe tbody tr th {\n",
       "        vertical-align: top;\n",
       "    }\n",
       "\n",
       "    .dataframe thead th {\n",
       "        text-align: right;\n",
       "    }\n",
       "</style>\n",
       "<table border=\"1\" class=\"dataframe\">\n",
       "  <thead>\n",
       "    <tr style=\"text-align: right;\">\n",
       "      <th></th>\n",
       "      <th>loan_size</th>\n",
       "      <th>interest_rate</th>\n",
       "      <th>homeowner</th>\n",
       "      <th>borrower_income</th>\n",
       "      <th>debt_to_income</th>\n",
       "      <th>num_of_accounts</th>\n",
       "      <th>derogatory_marks</th>\n",
       "      <th>total_debt</th>\n",
       "      <th>loan_status</th>\n",
       "    </tr>\n",
       "  </thead>\n",
       "  <tbody>\n",
       "    <tr>\n",
       "      <th>0</th>\n",
       "      <td>10700.0</td>\n",
       "      <td>7.672</td>\n",
       "      <td>own</td>\n",
       "      <td>52800</td>\n",
       "      <td>0.431818</td>\n",
       "      <td>5</td>\n",
       "      <td>1</td>\n",
       "      <td>22800</td>\n",
       "      <td>low_risk</td>\n",
       "    </tr>\n",
       "    <tr>\n",
       "      <th>1</th>\n",
       "      <td>8400.0</td>\n",
       "      <td>6.692</td>\n",
       "      <td>own</td>\n",
       "      <td>43600</td>\n",
       "      <td>0.311927</td>\n",
       "      <td>3</td>\n",
       "      <td>0</td>\n",
       "      <td>13600</td>\n",
       "      <td>low_risk</td>\n",
       "    </tr>\n",
       "    <tr>\n",
       "      <th>2</th>\n",
       "      <td>9000.0</td>\n",
       "      <td>6.963</td>\n",
       "      <td>rent</td>\n",
       "      <td>46100</td>\n",
       "      <td>0.349241</td>\n",
       "      <td>3</td>\n",
       "      <td>0</td>\n",
       "      <td>16100</td>\n",
       "      <td>low_risk</td>\n",
       "    </tr>\n",
       "    <tr>\n",
       "      <th>3</th>\n",
       "      <td>10700.0</td>\n",
       "      <td>7.664</td>\n",
       "      <td>own</td>\n",
       "      <td>52700</td>\n",
       "      <td>0.430740</td>\n",
       "      <td>5</td>\n",
       "      <td>1</td>\n",
       "      <td>22700</td>\n",
       "      <td>low_risk</td>\n",
       "    </tr>\n",
       "    <tr>\n",
       "      <th>4</th>\n",
       "      <td>10800.0</td>\n",
       "      <td>7.698</td>\n",
       "      <td>mortgage</td>\n",
       "      <td>53000</td>\n",
       "      <td>0.433962</td>\n",
       "      <td>5</td>\n",
       "      <td>1</td>\n",
       "      <td>23000</td>\n",
       "      <td>low_risk</td>\n",
       "    </tr>\n",
       "  </tbody>\n",
       "</table>\n",
       "</div>"
      ],
      "text/plain": [
       "   loan_size  interest_rate homeowner  borrower_income  debt_to_income  \\\n",
       "0    10700.0          7.672       own            52800        0.431818   \n",
       "1     8400.0          6.692       own            43600        0.311927   \n",
       "2     9000.0          6.963      rent            46100        0.349241   \n",
       "3    10700.0          7.664       own            52700        0.430740   \n",
       "4    10800.0          7.698  mortgage            53000        0.433962   \n",
       "\n",
       "   num_of_accounts  derogatory_marks  total_debt loan_status  \n",
       "0                5                 1       22800    low_risk  \n",
       "1                3                 0       13600    low_risk  \n",
       "2                3                 0       16100    low_risk  \n",
       "3                5                 1       22700    low_risk  \n",
       "4                5                 1       23000    low_risk  "
      ]
     },
     "execution_count": 3,
     "metadata": {},
     "output_type": "execute_result"
    }
   ],
   "source": [
    "# Load the data\n",
    "file_path = Path('Resources/lending_data.csv')\n",
    "df = pd.read_csv(file_path)\n",
    "df.head()"
   ]
  },
  {
   "cell_type": "markdown",
   "metadata": {
    "id": "VtGSLwAEvNkJ"
   },
   "source": [
    "# Split the Data into Training and Testing"
   ]
  },
  {
   "cell_type": "code",
   "execution_count": 4,
   "metadata": {
    "id": "kMXZ9tEivNkJ"
   },
   "outputs": [],
   "source": [
    "# Create our features\n",
    "X = df.iloc[:, :-1]\n",
    "\n",
    "# Create our target\n",
    "y = df.iloc[:, -1]"
   ]
  },
  {
   "cell_type": "code",
   "execution_count": 5,
   "metadata": {
    "colab": {
     "base_uri": "https://localhost:8080/",
     "height": 317
    },
    "executionInfo": {
     "elapsed": 316,
     "status": "ok",
     "timestamp": 1625740149540,
     "user": {
      "displayName": "Christian Bandibas",
      "photoUrl": "https://lh3.googleusercontent.com/a-/AOh14GgsU_PyMVdRPxCTzsHfJXg9ZJ5E2S1vi81aUttG=s64",
      "userId": "07950926284804918955"
     },
     "user_tz": -480
    },
    "id": "hifmrVLRvNkK",
    "outputId": "89dd7aa4-38f3-4df0-f452-09ca4b9a59cd"
   },
   "outputs": [
    {
     "data": {
      "text/html": [
       "<div>\n",
       "<style scoped>\n",
       "    .dataframe tbody tr th:only-of-type {\n",
       "        vertical-align: middle;\n",
       "    }\n",
       "\n",
       "    .dataframe tbody tr th {\n",
       "        vertical-align: top;\n",
       "    }\n",
       "\n",
       "    .dataframe thead th {\n",
       "        text-align: right;\n",
       "    }\n",
       "</style>\n",
       "<table border=\"1\" class=\"dataframe\">\n",
       "  <thead>\n",
       "    <tr style=\"text-align: right;\">\n",
       "      <th></th>\n",
       "      <th>loan_size</th>\n",
       "      <th>interest_rate</th>\n",
       "      <th>borrower_income</th>\n",
       "      <th>debt_to_income</th>\n",
       "      <th>num_of_accounts</th>\n",
       "      <th>derogatory_marks</th>\n",
       "      <th>total_debt</th>\n",
       "    </tr>\n",
       "  </thead>\n",
       "  <tbody>\n",
       "    <tr>\n",
       "      <th>count</th>\n",
       "      <td>77536.000000</td>\n",
       "      <td>77536.000000</td>\n",
       "      <td>77536.000000</td>\n",
       "      <td>77536.000000</td>\n",
       "      <td>77536.000000</td>\n",
       "      <td>77536.000000</td>\n",
       "      <td>77536.000000</td>\n",
       "    </tr>\n",
       "    <tr>\n",
       "      <th>mean</th>\n",
       "      <td>9805.562577</td>\n",
       "      <td>7.292333</td>\n",
       "      <td>49221.949804</td>\n",
       "      <td>0.377318</td>\n",
       "      <td>3.826610</td>\n",
       "      <td>0.392308</td>\n",
       "      <td>19221.949804</td>\n",
       "    </tr>\n",
       "    <tr>\n",
       "      <th>std</th>\n",
       "      <td>2093.223153</td>\n",
       "      <td>0.889495</td>\n",
       "      <td>8371.635077</td>\n",
       "      <td>0.081519</td>\n",
       "      <td>1.904426</td>\n",
       "      <td>0.582086</td>\n",
       "      <td>8371.635077</td>\n",
       "    </tr>\n",
       "    <tr>\n",
       "      <th>min</th>\n",
       "      <td>5000.000000</td>\n",
       "      <td>5.250000</td>\n",
       "      <td>30000.000000</td>\n",
       "      <td>0.000000</td>\n",
       "      <td>0.000000</td>\n",
       "      <td>0.000000</td>\n",
       "      <td>0.000000</td>\n",
       "    </tr>\n",
       "    <tr>\n",
       "      <th>25%</th>\n",
       "      <td>8700.000000</td>\n",
       "      <td>6.825000</td>\n",
       "      <td>44800.000000</td>\n",
       "      <td>0.330357</td>\n",
       "      <td>3.000000</td>\n",
       "      <td>0.000000</td>\n",
       "      <td>14800.000000</td>\n",
       "    </tr>\n",
       "    <tr>\n",
       "      <th>50%</th>\n",
       "      <td>9500.000000</td>\n",
       "      <td>7.172000</td>\n",
       "      <td>48100.000000</td>\n",
       "      <td>0.376299</td>\n",
       "      <td>4.000000</td>\n",
       "      <td>0.000000</td>\n",
       "      <td>18100.000000</td>\n",
       "    </tr>\n",
       "    <tr>\n",
       "      <th>75%</th>\n",
       "      <td>10400.000000</td>\n",
       "      <td>7.528000</td>\n",
       "      <td>51400.000000</td>\n",
       "      <td>0.416342</td>\n",
       "      <td>4.000000</td>\n",
       "      <td>1.000000</td>\n",
       "      <td>21400.000000</td>\n",
       "    </tr>\n",
       "    <tr>\n",
       "      <th>max</th>\n",
       "      <td>23800.000000</td>\n",
       "      <td>13.235000</td>\n",
       "      <td>105200.000000</td>\n",
       "      <td>0.714829</td>\n",
       "      <td>16.000000</td>\n",
       "      <td>3.000000</td>\n",
       "      <td>75200.000000</td>\n",
       "    </tr>\n",
       "  </tbody>\n",
       "</table>\n",
       "</div>"
      ],
      "text/plain": [
       "          loan_size  interest_rate  borrower_income  debt_to_income  \\\n",
       "count  77536.000000   77536.000000     77536.000000    77536.000000   \n",
       "mean    9805.562577       7.292333     49221.949804        0.377318   \n",
       "std     2093.223153       0.889495      8371.635077        0.081519   \n",
       "min     5000.000000       5.250000     30000.000000        0.000000   \n",
       "25%     8700.000000       6.825000     44800.000000        0.330357   \n",
       "50%     9500.000000       7.172000     48100.000000        0.376299   \n",
       "75%    10400.000000       7.528000     51400.000000        0.416342   \n",
       "max    23800.000000      13.235000    105200.000000        0.714829   \n",
       "\n",
       "       num_of_accounts  derogatory_marks    total_debt  \n",
       "count     77536.000000      77536.000000  77536.000000  \n",
       "mean          3.826610          0.392308  19221.949804  \n",
       "std           1.904426          0.582086   8371.635077  \n",
       "min           0.000000          0.000000      0.000000  \n",
       "25%           3.000000          0.000000  14800.000000  \n",
       "50%           4.000000          0.000000  18100.000000  \n",
       "75%           4.000000          1.000000  21400.000000  \n",
       "max          16.000000          3.000000  75200.000000  "
      ]
     },
     "execution_count": 5,
     "metadata": {},
     "output_type": "execute_result"
    }
   ],
   "source": [
    "X.describe()"
   ]
  },
  {
   "cell_type": "code",
   "execution_count": 6,
   "metadata": {
    "colab": {
     "base_uri": "https://localhost:8080/"
    },
    "executionInfo": {
     "elapsed": 350,
     "status": "ok",
     "timestamp": 1625740152602,
     "user": {
      "displayName": "Christian Bandibas",
      "photoUrl": "https://lh3.googleusercontent.com/a-/AOh14GgsU_PyMVdRPxCTzsHfJXg9ZJ5E2S1vi81aUttG=s64",
      "userId": "07950926284804918955"
     },
     "user_tz": -480
    },
    "id": "Xa_QUwzZvNkK",
    "outputId": "4718687c-acf1-486d-806e-2ddc1c21f2b1"
   },
   "outputs": [
    {
     "data": {
      "text/plain": [
       "low_risk     75036\n",
       "high_risk     2500\n",
       "Name: loan_status, dtype: int64"
      ]
     },
     "execution_count": 6,
     "metadata": {},
     "output_type": "execute_result"
    }
   ],
   "source": [
    "# Check the balance of our target values\n",
    "y.value_counts()"
   ]
  },
  {
   "cell_type": "markdown",
   "metadata": {
    "id": "EMClo4u-_J2x"
   },
   "source": [
    "**Encoding Categorical Data**\n",
    "\n",
    "\n",
    "\n",
    "\n"
   ]
  },
  {
   "cell_type": "markdown",
   "metadata": {
    "id": "dXctLgWaAg5c"
   },
   "source": [
    "Ecoding the Independent Varible"
   ]
  },
  {
   "cell_type": "code",
   "execution_count": 7,
   "metadata": {
    "id": "-MeDCfUCAgW4"
   },
   "outputs": [],
   "source": [
    "from sklearn.compose import ColumnTransformer\n",
    "from sklearn.preprocessing import OneHotEncoder\n",
    "ct = ColumnTransformer(transformers=[('encoder', OneHotEncoder(), ['homeowner'])], remainder='passthrough')\n",
    "\n",
    "X = np.array(ct.fit_transform(X)) #T"
   ]
  },
  {
   "cell_type": "code",
   "execution_count": 8,
   "metadata": {
    "id": "LjR2nImaIp4H"
   },
   "outputs": [
    {
     "name": "stdout",
     "output_type": "stream",
     "text": [
      "[0.00000000e+00 1.00000000e+00 0.00000000e+00 1.07000000e+04\n",
      " 7.67200000e+00 5.28000000e+04 4.31818182e-01 5.00000000e+00\n",
      " 1.00000000e+00 2.28000000e+04]\n"
     ]
    }
   ],
   "source": [
    "print(X[0])"
   ]
  },
  {
   "cell_type": "markdown",
   "metadata": {
    "id": "hBxUbRjCIakq"
   },
   "source": [
    "Encoding the Dependent Variable"
   ]
  },
  {
   "cell_type": "code",
   "execution_count": 9,
   "metadata": {
    "id": "B6ADPwe4IaUI"
   },
   "outputs": [],
   "source": [
    "from sklearn.preprocessing import LabelEncoder\n",
    "le = LabelEncoder()\n",
    "y = le.fit_transform(y)"
   ]
  },
  {
   "cell_type": "code",
   "execution_count": 10,
   "metadata": {
    "id": "dVOW1YVYvNkL"
   },
   "outputs": [],
   "source": [
    "# Create X_train, X_test, y_train, y_test\n",
    "\n",
    "from sklearn.model_selection import train_test_split\n",
    "X_train, X_test, y_train, y_test = train_test_split(X, y, test_size = 0.2, random_state = 1)"
   ]
  },
  {
   "cell_type": "code",
   "execution_count": 11,
   "metadata": {
    "colab": {
     "base_uri": "https://localhost:8080/",
     "height": 164
    },
    "executionInfo": {
     "elapsed": 8,
     "status": "error",
     "timestamp": 1626036292765,
     "user": {
      "displayName": "Christian Bandibas",
      "photoUrl": "https://lh3.googleusercontent.com/a-/AOh14GgsU_PyMVdRPxCTzsHfJXg9ZJ5E2S1vi81aUttG=s64",
      "userId": "07950926284804918955"
     },
     "user_tz": -480
    },
    "id": "0K2Hb3ul9-d5",
    "outputId": "d9bb85da-4b4d-40dc-97cb-add90beb77ea"
   },
   "outputs": [
    {
     "name": "stdout",
     "output_type": "stream",
     "text": [
      "[[0.00e+00 1.00e+00 0.00e+00 ... 3.00e+00 0.00e+00 1.71e+04]\n",
      " [0.00e+00 1.00e+00 0.00e+00 ... 4.00e+00 1.00e+00 2.14e+04]\n",
      " [0.00e+00 1.00e+00 0.00e+00 ... 4.00e+00 0.00e+00 1.98e+04]\n",
      " ...\n",
      " [0.00e+00 1.00e+00 0.00e+00 ... 4.00e+00 1.00e+00 2.08e+04]\n",
      " [1.00e+00 0.00e+00 0.00e+00 ... 5.00e+00 1.00e+00 2.44e+04]\n",
      " [0.00e+00 1.00e+00 0.00e+00 ... 5.00e+00 1.00e+00 2.24e+04]]\n"
     ]
    }
   ],
   "source": [
    "print(X_train)"
   ]
  },
  {
   "cell_type": "markdown",
   "metadata": {
    "id": "IrjN6fRavNkL"
   },
   "source": [
    "## Data Pre-Processing\n",
    "\n",
    "Scale the training and testing data using the `StandardScaler` from `sklearn`. Remember that when scaling the data, you only scale the features data (`X_train` and `X_testing`)."
   ]
  },
  {
   "cell_type": "code",
   "execution_count": 12,
   "metadata": {
    "id": "4GwFyJg0vNkL"
   },
   "outputs": [],
   "source": [
    "# Create the StandardScaler instance\n",
    "from sklearn.preprocessing import StandardScaler\n",
    "sc = StandardScaler()\n",
    "\n"
   ]
  },
  {
   "cell_type": "code",
   "execution_count": 13,
   "metadata": {
    "id": "sqg_XUawvNkM"
   },
   "outputs": [],
   "source": [
    "# Fit the Standard Scaler with the training data\n",
    "# When fitting scaling functions, only train on the training dataset\n",
    "X_train[:,3:] = sc.fit_transform(X_train[:,3:])"
   ]
  },
  {
   "cell_type": "code",
   "execution_count": 14,
   "metadata": {
    "id": "xn6rGI2FvNkM"
   },
   "outputs": [],
   "source": [
    "# Scale the training and testing data\n",
    "\n",
    "X_test[:,3:] = sc.transform(X_test[:,3:])"
   ]
  },
  {
   "cell_type": "markdown",
   "metadata": {
    "id": "PQAQ_xAuvNkM"
   },
   "source": [
    "# Simple Logistic Regression"
   ]
  },
  {
   "cell_type": "code",
   "execution_count": 15,
   "metadata": {
    "colab": {
     "base_uri": "https://localhost:8080/"
    },
    "executionInfo": {
     "elapsed": 1177,
     "status": "ok",
     "timestamp": 1625740181682,
     "user": {
      "displayName": "Christian Bandibas",
      "photoUrl": "https://lh3.googleusercontent.com/a-/AOh14GgsU_PyMVdRPxCTzsHfJXg9ZJ5E2S1vi81aUttG=s64",
      "userId": "07950926284804918955"
     },
     "user_tz": -480
    },
    "id": "yQp5vnOSvNkN",
    "outputId": "2ecee5c1-a499-4c70-e4da-4a0c1d232746"
   },
   "outputs": [
    {
     "data": {
      "text/plain": [
       "LogisticRegression(random_state=1)"
      ]
     },
     "execution_count": 15,
     "metadata": {},
     "output_type": "execute_result"
    }
   ],
   "source": [
    "from sklearn.linear_model import LogisticRegression\n",
    "model = LogisticRegression(solver='lbfgs', random_state=1)\n",
    "model.fit(X_train, y_train)"
   ]
  },
  {
   "cell_type": "code",
   "execution_count": 16,
   "metadata": {
    "colab": {
     "base_uri": "https://localhost:8080/"
    },
    "executionInfo": {
     "elapsed": 619,
     "status": "ok",
     "timestamp": 1625740184974,
     "user": {
      "displayName": "Christian Bandibas",
      "photoUrl": "https://lh3.googleusercontent.com/a-/AOh14GgsU_PyMVdRPxCTzsHfJXg9ZJ5E2S1vi81aUttG=s64",
      "userId": "07950926284804918955"
     },
     "user_tz": -480
    },
    "id": "WMNdVMomvNkN",
    "outputId": "982f4e7c-62b9-4929-e7fb-518fc7525820"
   },
   "outputs": [
    {
     "data": {
      "text/plain": [
       "0.988357778120512"
      ]
     },
     "execution_count": 16,
     "metadata": {},
     "output_type": "execute_result"
    }
   ],
   "source": [
    "# Calculated the balanced accuracy score\n",
    "from sklearn.metrics import balanced_accuracy_score\n",
    "y_pred = model.predict(X_test)\n",
    "balanced_accuracy_score(y_test, y_pred)"
   ]
  },
  {
   "cell_type": "code",
   "execution_count": 17,
   "metadata": {
    "colab": {
     "base_uri": "https://localhost:8080/"
    },
    "executionInfo": {
     "elapsed": 628,
     "status": "ok",
     "timestamp": 1625740189216,
     "user": {
      "displayName": "Christian Bandibas",
      "photoUrl": "https://lh3.googleusercontent.com/a-/AOh14GgsU_PyMVdRPxCTzsHfJXg9ZJ5E2S1vi81aUttG=s64",
      "userId": "07950926284804918955"
     },
     "user_tz": -480
    },
    "id": "yKYyjsJtvNkN",
    "outputId": "4ce072bd-9788-4d3a-f138-d78eff24eb2b"
   },
   "outputs": [
    {
     "data": {
      "text/plain": [
       "array([[  498,     9],\n",
       "       [   83, 14918]])"
      ]
     },
     "execution_count": 17,
     "metadata": {},
     "output_type": "execute_result"
    }
   ],
   "source": [
    "# Display the confusion matrix\n",
    "from sklearn.metrics import confusion_matrix\n",
    "confusion_matrix(y_test, y_pred)"
   ]
  },
  {
   "cell_type": "code",
   "execution_count": 18,
   "metadata": {
    "colab": {
     "base_uri": "https://localhost:8080/"
    },
    "executionInfo": {
     "elapsed": 1168,
     "status": "ok",
     "timestamp": 1625740194364,
     "user": {
      "displayName": "Christian Bandibas",
      "photoUrl": "https://lh3.googleusercontent.com/a-/AOh14GgsU_PyMVdRPxCTzsHfJXg9ZJ5E2S1vi81aUttG=s64",
      "userId": "07950926284804918955"
     },
     "user_tz": -480
    },
    "id": "_6BaFWvKvNkN",
    "outputId": "f0c0fa00-4a5c-4aa9-a3ff-ec690d7980a2"
   },
   "outputs": [
    {
     "name": "stdout",
     "output_type": "stream",
     "text": [
      "                   pre       rec       spe        f1       geo       iba       sup\n",
      "\n",
      "          0       0.86      0.98      0.99      0.92      0.99      0.98       507\n",
      "          1       1.00      0.99      0.98      1.00      0.99      0.98     15001\n",
      "\n",
      "avg / total       0.99      0.99      0.98      0.99      0.99      0.98     15508\n",
      "\n"
     ]
    }
   ],
   "source": [
    "# Print the imbalanced classification report\n",
    "from imblearn.metrics import classification_report_imbalanced\n",
    "print(classification_report_imbalanced(y_test, y_pred))"
   ]
  },
  {
   "cell_type": "markdown",
   "metadata": {
    "id": "3swsmMmrvNkN"
   },
   "source": [
    "# Oversampling\n",
    "\n",
    "In this section, you will compare two oversampling algorithms to determine which algorithm results in the best performance. You will oversample the data using the naive random oversampling algorithm and the SMOTE algorithm. For each algorithm, be sure to complete the folliowing steps:\n",
    "\n",
    "1. View the count of the target classes using `Counter` from the collections library. \n",
    "3. Use the resampled data to train a logistic regression model.\n",
    "3. Calculate the balanced accuracy score from sklearn.metrics.\n",
    "4. Print the confusion matrix from sklearn.metrics.\n",
    "5. Generate a classication report using the `imbalanced_classification_report` from imbalanced-learn.\n",
    "\n",
    "Note: Use a random state of 1 for each sampling algorithm to ensure consistency between tests"
   ]
  },
  {
   "cell_type": "markdown",
   "metadata": {
    "id": "QsPpNEv6vNkO"
   },
   "source": [
    "### Naive Random Oversampling"
   ]
  },
  {
   "cell_type": "code",
   "execution_count": 19,
   "metadata": {
    "id": "AA-FCVsWvNkO"
   },
   "outputs": [
    {
     "name": "stdout",
     "output_type": "stream",
     "text": [
      "Original Dataset Counter({1: 60035, 0: 1993})\n",
      "Resampled Dataset Counter({1: 60035, 0: 60035})\n"
     ]
    }
   ],
   "source": [
    "# Resample the training data with the RandomOversampler\n",
    "from imblearn.over_sampling import RandomOverSampler \n",
    "ros = RandomOverSampler(random_state=0)\n",
    "X_res, y_res = ros.fit_resample(X_train, y_train)\n",
    "\n",
    "# View the count of target classes with Counter\n",
    "print(\"Original Dataset {}\".format(Counter(y_train)))\n",
    "print(\"Resampled Dataset {}\".format(Counter(y_res)))\n"
   ]
  },
  {
   "cell_type": "code",
   "execution_count": 20,
   "metadata": {
    "colab": {
     "base_uri": "https://localhost:8080/"
    },
    "executionInfo": {
     "elapsed": 1532,
     "status": "ok",
     "timestamp": 1625741011599,
     "user": {
      "displayName": "Christian Bandibas",
      "photoUrl": "https://lh3.googleusercontent.com/a-/AOh14GgsU_PyMVdRPxCTzsHfJXg9ZJ5E2S1vi81aUttG=s64",
      "userId": "07950926284804918955"
     },
     "user_tz": -480
    },
    "id": "ZObFkQaovNkO",
    "outputId": "610486ff-d376-4b64-a82d-7119e70ff85b"
   },
   "outputs": [
    {
     "data": {
      "text/plain": [
       "LogisticRegression(random_state=1)"
      ]
     },
     "execution_count": 20,
     "metadata": {},
     "output_type": "execute_result"
    }
   ],
   "source": [
    "# Train the Logistic Regression model using the resampled data\n",
    "from sklearn.linear_model import LogisticRegression\n",
    "model = LogisticRegression(solver='lbfgs', random_state=1)\n",
    "model.fit(X_res, y_res)"
   ]
  },
  {
   "cell_type": "code",
   "execution_count": 21,
   "metadata": {
    "colab": {
     "base_uri": "https://localhost:8080/"
    },
    "executionInfo": {
     "elapsed": 374,
     "status": "ok",
     "timestamp": 1625741014730,
     "user": {
      "displayName": "Christian Bandibas",
      "photoUrl": "https://lh3.googleusercontent.com/a-/AOh14GgsU_PyMVdRPxCTzsHfJXg9ZJ5E2S1vi81aUttG=s64",
      "userId": "07950926284804918955"
     },
     "user_tz": -480
    },
    "id": "Sq-dETS_vNkO",
    "outputId": "7234f817-d92a-44d0-f064-6e3c04a1bf0e"
   },
   "outputs": [
    {
     "data": {
      "text/plain": [
       "0.9939749578824922"
      ]
     },
     "execution_count": 21,
     "metadata": {},
     "output_type": "execute_result"
    }
   ],
   "source": [
    "# Calculated the balanced accuracy score\n",
    "from sklearn.metrics import balanced_accuracy_score\n",
    "y_pred = model.predict(X_test)\n",
    "balanced_accuracy_score(y_test, y_pred)"
   ]
  },
  {
   "cell_type": "code",
   "execution_count": 22,
   "metadata": {
    "colab": {
     "base_uri": "https://localhost:8080/"
    },
    "executionInfo": {
     "elapsed": 347,
     "status": "ok",
     "timestamp": 1625741030469,
     "user": {
      "displayName": "Christian Bandibas",
      "photoUrl": "https://lh3.googleusercontent.com/a-/AOh14GgsU_PyMVdRPxCTzsHfJXg9ZJ5E2S1vi81aUttG=s64",
      "userId": "07950926284804918955"
     },
     "user_tz": -480
    },
    "id": "csh_sjssvNkO",
    "outputId": "493cd6e8-ffe8-4aa1-f801-ba1205a16177"
   },
   "outputs": [
    {
     "data": {
      "text/plain": [
       "array([[  504,     3],\n",
       "       [   92, 14909]])"
      ]
     },
     "execution_count": 22,
     "metadata": {},
     "output_type": "execute_result"
    }
   ],
   "source": [
    "# Display the confusion matrix\n",
    "from sklearn.metrics import confusion_matrix\n",
    "confusion_matrix(y_test, y_pred)"
   ]
  },
  {
   "cell_type": "code",
   "execution_count": 23,
   "metadata": {
    "colab": {
     "base_uri": "https://localhost:8080/"
    },
    "executionInfo": {
     "elapsed": 403,
     "status": "ok",
     "timestamp": 1625741042328,
     "user": {
      "displayName": "Christian Bandibas",
      "photoUrl": "https://lh3.googleusercontent.com/a-/AOh14GgsU_PyMVdRPxCTzsHfJXg9ZJ5E2S1vi81aUttG=s64",
      "userId": "07950926284804918955"
     },
     "user_tz": -480
    },
    "id": "C8ja4eK6vNkO",
    "outputId": "cddb6a7b-8839-4814-9aca-6c0d6bbc53d3"
   },
   "outputs": [
    {
     "name": "stdout",
     "output_type": "stream",
     "text": [
      "                   pre       rec       spe        f1       geo       iba       sup\n",
      "\n",
      "          0       0.85      0.99      0.99      0.91      0.99      0.99       507\n",
      "          1       1.00      0.99      0.99      1.00      0.99      0.99     15001\n",
      "\n",
      "avg / total       0.99      0.99      0.99      0.99      0.99      0.99     15508\n",
      "\n"
     ]
    }
   ],
   "source": [
    "# Print the imbalanced classification report\n",
    "from imblearn.metrics import classification_report_imbalanced\n",
    "print(classification_report_imbalanced(y_test, y_pred))"
   ]
  },
  {
   "cell_type": "markdown",
   "metadata": {
    "id": "dTKnFxDSvNkP"
   },
   "source": [
    "### SMOTE Oversampling"
   ]
  },
  {
   "cell_type": "code",
   "execution_count": 24,
   "metadata": {
    "colab": {
     "base_uri": "https://localhost:8080/"
    },
    "executionInfo": {
     "elapsed": 819,
     "status": "ok",
     "timestamp": 1625742543778,
     "user": {
      "displayName": "Christian Bandibas",
      "photoUrl": "https://lh3.googleusercontent.com/a-/AOh14GgsU_PyMVdRPxCTzsHfJXg9ZJ5E2S1vi81aUttG=s64",
      "userId": "07950926284804918955"
     },
     "user_tz": -480
    },
    "id": "QYt86zZAvNkP",
    "outputId": "3a920b16-b6f8-4c19-a7cb-039817800403"
   },
   "outputs": [
    {
     "name": "stdout",
     "output_type": "stream",
     "text": [
      "Original Dataset Counter({1: 60035, 0: 1993})\n",
      "Resampled Dataset Counter({1: 60035, 0: 60035})\n"
     ]
    }
   ],
   "source": [
    "# Resample the training data with SMOTE\n",
    "from imblearn.over_sampling import SMOTE\n",
    "method = SMOTE(random_state = 0)\n",
    "X_resampled, y_resampled = method.fit_resample(X_train, y_train)\n",
    "\n",
    "# View the count of target classes with Counter\n",
    "print(\"Original Dataset {}\".format(Counter(y_train)))\n",
    "print(\"Resampled Dataset {}\".format(Counter(y_resampled)))"
   ]
  },
  {
   "cell_type": "code",
   "execution_count": 25,
   "metadata": {
    "colab": {
     "base_uri": "https://localhost:8080/"
    },
    "executionInfo": {
     "elapsed": 1819,
     "status": "ok",
     "timestamp": 1625742547872,
     "user": {
      "displayName": "Christian Bandibas",
      "photoUrl": "https://lh3.googleusercontent.com/a-/AOh14GgsU_PyMVdRPxCTzsHfJXg9ZJ5E2S1vi81aUttG=s64",
      "userId": "07950926284804918955"
     },
     "user_tz": -480
    },
    "id": "ZyIRoQlsvNkP",
    "outputId": "18f4f999-0ba2-44ce-c98f-5df7868dd498"
   },
   "outputs": [
    {
     "data": {
      "text/plain": [
       "LogisticRegression(random_state=1)"
      ]
     },
     "execution_count": 25,
     "metadata": {},
     "output_type": "execute_result"
    }
   ],
   "source": [
    "# Train the Logistic Regression model using the resampled data\n",
    "from sklearn.linear_model import LogisticRegression\n",
    "model = LogisticRegression(solver='lbfgs', random_state=1)\n",
    "model.fit(X_resampled, y_resampled)"
   ]
  },
  {
   "cell_type": "code",
   "execution_count": 26,
   "metadata": {
    "colab": {
     "base_uri": "https://localhost:8080/"
    },
    "executionInfo": {
     "elapsed": 2,
     "status": "ok",
     "timestamp": 1625742549457,
     "user": {
      "displayName": "Christian Bandibas",
      "photoUrl": "https://lh3.googleusercontent.com/a-/AOh14GgsU_PyMVdRPxCTzsHfJXg9ZJ5E2S1vi81aUttG=s64",
      "userId": "07950926284804918955"
     },
     "user_tz": -480
    },
    "id": "T2pvCeaDvNkP",
    "outputId": "bd9bee93-27da-440c-ca1c-ce54fbaa5214"
   },
   "outputs": [
    {
     "data": {
      "text/plain": [
       "0.9940082889937515"
      ]
     },
     "execution_count": 26,
     "metadata": {},
     "output_type": "execute_result"
    }
   ],
   "source": [
    "# Calculated the balanced accuracy score\n",
    "from sklearn.metrics import balanced_accuracy_score\n",
    "y_pred = model.predict(X_test)\n",
    "balanced_accuracy_score(y_test, y_pred)"
   ]
  },
  {
   "cell_type": "code",
   "execution_count": 27,
   "metadata": {
    "colab": {
     "base_uri": "https://localhost:8080/"
    },
    "executionInfo": {
     "elapsed": 522,
     "status": "ok",
     "timestamp": 1625741872759,
     "user": {
      "displayName": "Christian Bandibas",
      "photoUrl": "https://lh3.googleusercontent.com/a-/AOh14GgsU_PyMVdRPxCTzsHfJXg9ZJ5E2S1vi81aUttG=s64",
      "userId": "07950926284804918955"
     },
     "user_tz": -480
    },
    "id": "x2elHiFjvNkP",
    "outputId": "f2380011-4eee-46b4-92ab-fe7fb0924557"
   },
   "outputs": [
    {
     "data": {
      "text/plain": [
       "array([[  504,     3],\n",
       "       [   91, 14910]])"
      ]
     },
     "execution_count": 27,
     "metadata": {},
     "output_type": "execute_result"
    }
   ],
   "source": [
    "# Display the confusion matrix\n",
    "from sklearn.metrics import confusion_matrix\n",
    "confusion_matrix(y_test, y_pred)"
   ]
  },
  {
   "cell_type": "code",
   "execution_count": 28,
   "metadata": {
    "colab": {
     "base_uri": "https://localhost:8080/"
    },
    "executionInfo": {
     "elapsed": 338,
     "status": "ok",
     "timestamp": 1625741874803,
     "user": {
      "displayName": "Christian Bandibas",
      "photoUrl": "https://lh3.googleusercontent.com/a-/AOh14GgsU_PyMVdRPxCTzsHfJXg9ZJ5E2S1vi81aUttG=s64",
      "userId": "07950926284804918955"
     },
     "user_tz": -480
    },
    "id": "pIaRsXUfvNkP",
    "outputId": "3e6c9707-a619-47d9-f5f4-bcea4056c4dc"
   },
   "outputs": [
    {
     "name": "stdout",
     "output_type": "stream",
     "text": [
      "                   pre       rec       spe        f1       geo       iba       sup\n",
      "\n",
      "          0       0.85      0.99      0.99      0.91      0.99      0.99       507\n",
      "          1       1.00      0.99      0.99      1.00      0.99      0.99     15001\n",
      "\n",
      "avg / total       0.99      0.99      0.99      0.99      0.99      0.99     15508\n",
      "\n"
     ]
    }
   ],
   "source": [
    "# Print the imbalanced classification report\n",
    "from imblearn.metrics import classification_report_imbalanced\n",
    "print(classification_report_imbalanced(y_test, y_pred))"
   ]
  },
  {
   "cell_type": "markdown",
   "metadata": {
    "id": "yJkuxpUkvNkQ"
   },
   "source": [
    "# Undersampling\n",
    "\n",
    "In this section, you will test an undersampling algorithm to determine which algorithm results in the best performance compared to the oversampling algorithms above. You will undersample the data using the Cluster Centroids algorithm and complete the folliowing steps:\n",
    "\n",
    "1. View the count of the target classes using `Counter` from the collections library. \n",
    "3. Use the resampled data to train a logistic regression model.\n",
    "3. Calculate the balanced accuracy score from sklearn.metrics.\n",
    "4. Display the confusion matrix from sklearn.metrics.\n",
    "5. Generate a classication report using the `imbalanced_classification_report` from imbalanced-learn.\n",
    "\n",
    "Note: Use a random state of 1 for each sampling algorithm to ensure consistency between tests"
   ]
  },
  {
   "cell_type": "code",
   "execution_count": 29,
   "metadata": {
    "colab": {
     "base_uri": "https://localhost:8080/"
    },
    "executionInfo": {
     "elapsed": 344,
     "status": "ok",
     "timestamp": 1625742558230,
     "user": {
      "displayName": "Christian Bandibas",
      "photoUrl": "https://lh3.googleusercontent.com/a-/AOh14GgsU_PyMVdRPxCTzsHfJXg9ZJ5E2S1vi81aUttG=s64",
      "userId": "07950926284804918955"
     },
     "user_tz": -480
    },
    "id": "CYu5jXBTvNkQ",
    "outputId": "c8932a8a-8c14-40ae-9873-2cbbe6e3af26"
   },
   "outputs": [
    {
     "name": "stdout",
     "output_type": "stream",
     "text": [
      "Original Dataset Counter({1: 60035, 0: 1993})\n",
      "Resampled Dataset Counter({1: 60035, 0: 10})\n"
     ]
    }
   ],
   "source": [
    "# Resample the data using the ClusterCentroids resampler\n",
    "from imblearn.under_sampling import ClusterCentroids\n",
    "cc = ClusterCentroids(sampling_strategy={0: 10})\n",
    "X_cc, y_cc = cc.fit_resample(X_train, y_train)\n",
    "\n",
    "# View the count of target classes with Counter\n",
    "print(\"Original Dataset {}\".format(Counter(y_train)))\n",
    "print(\"Resampled Dataset {}\".format(Counter(y_cc)))"
   ]
  },
  {
   "cell_type": "code",
   "execution_count": 30,
   "metadata": {
    "colab": {
     "base_uri": "https://localhost:8080/"
    },
    "executionInfo": {
     "elapsed": 840,
     "status": "ok",
     "timestamp": 1625742208518,
     "user": {
      "displayName": "Christian Bandibas",
      "photoUrl": "https://lh3.googleusercontent.com/a-/AOh14GgsU_PyMVdRPxCTzsHfJXg9ZJ5E2S1vi81aUttG=s64",
      "userId": "07950926284804918955"
     },
     "user_tz": -480
    },
    "id": "smnMTGXGvNkQ",
    "outputId": "44f18432-5c3f-413c-8788-f653aaab3bd9"
   },
   "outputs": [
    {
     "data": {
      "text/plain": [
       "LogisticRegression(random_state=1)"
      ]
     },
     "execution_count": 30,
     "metadata": {},
     "output_type": "execute_result"
    }
   ],
   "source": [
    "# Train the Logistic Regression model using the resampled data\n",
    "from sklearn.linear_model import LogisticRegression\n",
    "model = LogisticRegression(solver='lbfgs', random_state=1)\n",
    "model.fit(X_cc, y_cc)"
   ]
  },
  {
   "cell_type": "code",
   "execution_count": 31,
   "metadata": {
    "colab": {
     "base_uri": "https://localhost:8080/"
    },
    "executionInfo": {
     "elapsed": 3,
     "status": "ok",
     "timestamp": 1625742210998,
     "user": {
      "displayName": "Christian Bandibas",
      "photoUrl": "https://lh3.googleusercontent.com/a-/AOh14GgsU_PyMVdRPxCTzsHfJXg9ZJ5E2S1vi81aUttG=s64",
      "userId": "07950926284804918955"
     },
     "user_tz": -480
    },
    "id": "Q7pcuE2_vNkQ",
    "outputId": "a897f9b9-74e8-4978-c828-6a60b67932c5"
   },
   "outputs": [
    {
     "data": {
      "text/plain": [
       "0.5"
      ]
     },
     "execution_count": 31,
     "metadata": {},
     "output_type": "execute_result"
    }
   ],
   "source": [
    "# Calculate the balanced accuracy score\n",
    "from sklearn.metrics import balanced_accuracy_score\n",
    "y_pred = model.predict(X_test)\n",
    "balanced_accuracy_score(y_test, y_pred)"
   ]
  },
  {
   "cell_type": "code",
   "execution_count": 32,
   "metadata": {
    "colab": {
     "base_uri": "https://localhost:8080/"
    },
    "executionInfo": {
     "elapsed": 351,
     "status": "ok",
     "timestamp": 1625742214907,
     "user": {
      "displayName": "Christian Bandibas",
      "photoUrl": "https://lh3.googleusercontent.com/a-/AOh14GgsU_PyMVdRPxCTzsHfJXg9ZJ5E2S1vi81aUttG=s64",
      "userId": "07950926284804918955"
     },
     "user_tz": -480
    },
    "id": "7qAsCUnnvNkQ",
    "outputId": "7ddd0f87-f01a-4cbe-cc33-ac597bfce2be"
   },
   "outputs": [
    {
     "data": {
      "text/plain": [
       "array([[    0,   507],\n",
       "       [    0, 15001]])"
      ]
     },
     "execution_count": 32,
     "metadata": {},
     "output_type": "execute_result"
    }
   ],
   "source": [
    "# Display the confusion matrix\n",
    "from sklearn.metrics import confusion_matrix\n",
    "confusion_matrix(y_test, y_pred)"
   ]
  },
  {
   "cell_type": "code",
   "execution_count": 33,
   "metadata": {
    "colab": {
     "base_uri": "https://localhost:8080/"
    },
    "executionInfo": {
     "elapsed": 342,
     "status": "ok",
     "timestamp": 1625742218136,
     "user": {
      "displayName": "Christian Bandibas",
      "photoUrl": "https://lh3.googleusercontent.com/a-/AOh14GgsU_PyMVdRPxCTzsHfJXg9ZJ5E2S1vi81aUttG=s64",
      "userId": "07950926284804918955"
     },
     "user_tz": -480
    },
    "id": "JCsUJamBvNkQ",
    "outputId": "789827cd-9e82-4e34-af03-791ff7a03941"
   },
   "outputs": [
    {
     "name": "stdout",
     "output_type": "stream",
     "text": [
      "                   pre       rec       spe        f1       geo       iba       sup\n",
      "\n",
      "          0       0.00      0.00      1.00      0.00      0.00      0.00       507\n",
      "          1       0.97      1.00      0.00      0.98      0.00      0.00     15001\n",
      "\n",
      "avg / total       0.94      0.97      0.03      0.95      0.00      0.00     15508\n",
      "\n"
     ]
    }
   ],
   "source": [
    "# Print the imbalanced classification report\n",
    "from imblearn.metrics import classification_report_imbalanced\n",
    "print(classification_report_imbalanced(y_test, y_pred))"
   ]
  },
  {
   "cell_type": "markdown",
   "metadata": {
    "id": "da93uorzvNkR"
   },
   "source": [
    "# Combination (Over and Under) Sampling\n",
    "\n",
    "In this section, you will test a combination over- and under-sampling algorithm to determine if the algorithm results in the best performance compared to the other sampling algorithms above. You will resample the data using the SMOTEENN algorithm and complete the folliowing steps:\n",
    "\n",
    "1. View the count of the target classes using `Counter` from the collections library. \n",
    "3. Use the resampled data to train a logistic regression model.\n",
    "3. Calculate the balanced accuracy score from sklearn.metrics.\n",
    "4. Display the confusion matrix from sklearn.metrics.\n",
    "5. Generate a classication report using the `imbalanced_classification_report` from imbalanced-learn.\n",
    "\n",
    "Note: Use a random state of 1 for each sampling algorithm to ensure consistency between tests"
   ]
  },
  {
   "cell_type": "code",
   "execution_count": 34,
   "metadata": {
    "colab": {
     "base_uri": "https://localhost:8080/"
    },
    "executionInfo": {
     "elapsed": 7594,
     "status": "ok",
     "timestamp": 1625742568574,
     "user": {
      "displayName": "Christian Bandibas",
      "photoUrl": "https://lh3.googleusercontent.com/a-/AOh14GgsU_PyMVdRPxCTzsHfJXg9ZJ5E2S1vi81aUttG=s64",
      "userId": "07950926284804918955"
     },
     "user_tz": -480
    },
    "id": "GTykuh2mvNkR",
    "outputId": "ace56b6e-051b-4f9a-c09e-328ddc0fe473"
   },
   "outputs": [
    {
     "name": "stdout",
     "output_type": "stream",
     "text": [
      "Original Dataset Counter({1: 60035, 0: 1993})\n",
      "Resampled Dataset Counter({1: 59629, 0: 59375})\n"
     ]
    }
   ],
   "source": [
    "# Resample the training data with SMOTEENN\n",
    "from imblearn.combine import SMOTEENN\n",
    "\n",
    "sme = SMOTEENN(random_state=0)\n",
    "X_sme, y_sme = sme.fit_resample(X_train, y_train)\n",
    "# View the count of target classes with Counter\n",
    "print(\"Original Dataset {}\".format(Counter(y_train)))\n",
    "print(\"Resampled Dataset {}\".format(Counter(y_sme)))"
   ]
  },
  {
   "cell_type": "code",
   "execution_count": 35,
   "metadata": {
    "colab": {
     "base_uri": "https://localhost:8080/"
    },
    "executionInfo": {
     "elapsed": 2119,
     "status": "ok",
     "timestamp": 1625742574466,
     "user": {
      "displayName": "Christian Bandibas",
      "photoUrl": "https://lh3.googleusercontent.com/a-/AOh14GgsU_PyMVdRPxCTzsHfJXg9ZJ5E2S1vi81aUttG=s64",
      "userId": "07950926284804918955"
     },
     "user_tz": -480
    },
    "id": "K5JhCzvFvNkR",
    "outputId": "8563cc52-7a44-43c8-fb1b-f26f5b58e9e2"
   },
   "outputs": [
    {
     "data": {
      "text/plain": [
       "LogisticRegression(random_state=1)"
      ]
     },
     "execution_count": 35,
     "metadata": {},
     "output_type": "execute_result"
    }
   ],
   "source": [
    "# Train the Logistic Regression model using the resampled data\n",
    "from sklearn.linear_model import LogisticRegression\n",
    "model = LogisticRegression(solver='lbfgs', random_state=1)\n",
    "model.fit(X_sme, y_sme)"
   ]
  },
  {
   "cell_type": "code",
   "execution_count": 36,
   "metadata": {
    "colab": {
     "base_uri": "https://localhost:8080/"
    },
    "executionInfo": {
     "elapsed": 423,
     "status": "ok",
     "timestamp": 1625742577747,
     "user": {
      "displayName": "Christian Bandibas",
      "photoUrl": "https://lh3.googleusercontent.com/a-/AOh14GgsU_PyMVdRPxCTzsHfJXg9ZJ5E2S1vi81aUttG=s64",
      "userId": "07950926284804918955"
     },
     "user_tz": -480
    },
    "id": "HHg4e46HvNkR",
    "outputId": "eaf8f6ba-5f3a-4e6b-9ed3-a4bba2977c03"
   },
   "outputs": [
    {
     "data": {
      "text/plain": [
       "0.9940082889937515"
      ]
     },
     "execution_count": 36,
     "metadata": {},
     "output_type": "execute_result"
    }
   ],
   "source": [
    "# Calculate the balanced accuracy score\n",
    "from sklearn.metrics import balanced_accuracy_score\n",
    "y_pred = model.predict(X_test)\n",
    "balanced_accuracy_score(y_test, y_pred)\n",
    "0.9940082889937515"
   ]
  },
  {
   "cell_type": "code",
   "execution_count": 37,
   "metadata": {
    "colab": {
     "base_uri": "https://localhost:8080/"
    },
    "executionInfo": {
     "elapsed": 410,
     "status": "ok",
     "timestamp": 1625742473639,
     "user": {
      "displayName": "Christian Bandibas",
      "photoUrl": "https://lh3.googleusercontent.com/a-/AOh14GgsU_PyMVdRPxCTzsHfJXg9ZJ5E2S1vi81aUttG=s64",
      "userId": "07950926284804918955"
     },
     "user_tz": -480
    },
    "id": "wk5KsC4PvNkR",
    "outputId": "c20ba95e-0260-4df2-954f-6561159504ab"
   },
   "outputs": [
    {
     "data": {
      "text/plain": [
       "array([[  504,     3],\n",
       "       [   91, 14910]])"
      ]
     },
     "execution_count": 37,
     "metadata": {},
     "output_type": "execute_result"
    }
   ],
   "source": [
    "# Display the confusion matrix\n",
    "from sklearn.metrics import confusion_matrix\n",
    "confusion_matrix(y_test, y_pred)"
   ]
  },
  {
   "cell_type": "code",
   "execution_count": 38,
   "metadata": {
    "colab": {
     "base_uri": "https://localhost:8080/"
    },
    "executionInfo": {
     "elapsed": 602,
     "status": "ok",
     "timestamp": 1625742475823,
     "user": {
      "displayName": "Christian Bandibas",
      "photoUrl": "https://lh3.googleusercontent.com/a-/AOh14GgsU_PyMVdRPxCTzsHfJXg9ZJ5E2S1vi81aUttG=s64",
      "userId": "07950926284804918955"
     },
     "user_tz": -480
    },
    "id": "4osV_ftpvNkR",
    "outputId": "2c0776a5-d683-479d-fc1c-eb31b7b3da3e"
   },
   "outputs": [
    {
     "name": "stdout",
     "output_type": "stream",
     "text": [
      "                   pre       rec       spe        f1       geo       iba       sup\n",
      "\n",
      "          0       0.85      0.99      0.99      0.91      0.99      0.99       507\n",
      "          1       1.00      0.99      0.99      1.00      0.99      0.99     15001\n",
      "\n",
      "avg / total       0.99      0.99      0.99      0.99      0.99      0.99     15508\n",
      "\n"
     ]
    }
   ],
   "source": [
    "# Print the imbalanced classification report\n",
    "from imblearn.metrics import classification_report_imbalanced\n",
    "print(classification_report_imbalanced(y_test, y_pred))"
   ]
  },
  {
   "cell_type": "markdown",
   "metadata": {
    "id": "q4M1OVOGvNkS"
   },
   "source": [
    "# Final Questions\n",
    "\n",
    "1. Which model had the best balanced accuracy score?\n",
    "\n",
    "   SMOTE and SMOTEEN\n",
    "\n",
    "2. Which model had the best recall score?\n",
    "\n",
    "    Almost all models had 99% recall scores except for LogisticRegression model that had 97% recall score."
   ]
  },
  {
   "cell_type": "code",
   "execution_count": null,
   "metadata": {
    "id": "cbbIa9g2vNkS"
   },
   "outputs": [],
   "source": []
  }
 ],
 "metadata": {
  "colab": {
   "collapsed_sections": [],
   "name": "Copy of credit_risk_resampling.ipynb",
   "provenance": [
    {
     "file_id": "1ZxBRRYuXN6QUByVGnhPRy94wfkzngoYo",
     "timestamp": 1625726521261
    }
   ]
  },
  "kernelspec": {
   "display_name": "Python [conda env:pyvizenv] *",
   "language": "python",
   "name": "conda-env-pyvizenv-py"
  },
  "language_info": {
   "codemirror_mode": {
    "name": "ipython",
    "version": 3
   },
   "file_extension": ".py",
   "mimetype": "text/x-python",
   "name": "python",
   "nbconvert_exporter": "python",
   "pygments_lexer": "ipython3",
   "version": "3.7.7"
  }
 },
 "nbformat": 4,
 "nbformat_minor": 4
}
